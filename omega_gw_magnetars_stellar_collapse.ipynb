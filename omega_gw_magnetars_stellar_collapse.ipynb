{
 "cells": [
  {
   "cell_type": "markdown",
   "id": "first-rescue",
   "metadata": {},
   "source": [
    "# Solution: Problem 2 (magnetars and stellar collapse)"
   ]
  },
  {
   "cell_type": "markdown",
   "id": "bibliographic-frequency",
   "metadata": {},
   "source": [
    "## First, we install packages that we will need. Skip this step if packages are already installed."
   ]
  },
  {
   "cell_type": "code",
   "execution_count": null,
   "id": "minor-needle",
   "metadata": {},
   "outputs": [],
   "source": [
    "import sys\n",
    "!{sys.executable} -m pip install numpy\n",
    "!{sys.executable} -m pip install scipy\n",
    "!{sys.executable} -m pip install matplotlib\n",
    "!{sys.executable} -m pip install astropy\n",
    "!{sys.executable} -m pip install pycbc"
   ]
  },
  {
   "cell_type": "markdown",
   "id": "metropolitan-projection",
   "metadata": {},
   "source": [
    "## Import necessary packages"
   ]
  },
  {
   "cell_type": "code",
   "execution_count": null,
   "id": "banner-recipient",
   "metadata": {},
   "outputs": [],
   "source": [
    "from astropy.cosmology import Planck15\n",
    "from astropy import constants\n",
    "import astropy.units as u\n",
    "import numpy as np\n",
    "import matplotlib.pyplot as plt\n",
    "import pycbc.psd\n",
    "from scipy.interpolate import interp1d\n",
    "from scipy.integrate import cumtrapz\n",
    "from tqdm import tqdm"
   ]
  },
  {
   "cell_type": "markdown",
   "id": "rising-warning",
   "metadata": {},
   "source": [
    "## First, we will do the calculation for stellar collapse models"
   ]
  },
  {
   "cell_type": "code",
   "execution_count": null,
   "id": "competent-report",
   "metadata": {},
   "outputs": [],
   "source": [
    "def Rstar_z(z):\n",
    "    \"\"\"\n",
    "    The star formation rate as a function of redshift.\n",
    "    Normalized to the merger rate from GWTC-2\n",
    "    https://arxiv.org/abs/2010.14533\n",
    "    \"\"\"\n",
    "    \n",
    "    a, b, zm = 2.8, 2.46, 1.72\n",
    "    nu = 0.146 * u.M_sun / u.yr / u.Mpc ** 3\n",
    "    numerator = nu * a * np.exp(b * (z - zm))\n",
    "    denominator = a - b + b * np.exp(a * (z - zm))\n",
    "    return numerator / denominator"
   ]
  },
  {
   "cell_type": "code",
   "execution_count": null,
   "id": "dietary-picking",
   "metadata": {},
   "outputs": [],
   "source": [
    "def dEdf_stellar_core_collapse_freq_dependence(freq, a, b, xi):\n",
    "    \"\"\"\n",
    "    Function to calculate dE/df for stellar core collapse.\n",
    "    \"\"\"\n",
    "    freq_dependent_part =  (1 + freq / a) ** 6 * np.exp(- 2*freq/b)\n",
    "    return freq_dependent_part\n",
    "\n",
    "def omega_GW_stellar_core_collapse(f_arr, dEdf_function,\n",
    "                               extra_args=dict()):\n",
    "    \"\"\"\n",
    "    Function to calculate omega_gw given the the dEdf\n",
    "    distribution. Also takes extra_args that go into the \n",
    "    the distribution for chirp mass.\n",
    "    \"\"\"\n",
    "    \n",
    "    f_arr = np.asarray(f_arr) * u.Hz\n",
    "    result = np.zeros_like(f_arr.value)\n",
    "    z = np.linspace(0.01, 20, 10000)\n",
    "    delta_z = z[1] - z[0]\n",
    "    \n",
    "    for index, freq in tqdm(enumerate(f_arr)):\n",
    "        prefactor_numerator = 8 * np.pi * constants.G * freq * extra_args[\"xi\"]\n",
    "        prefactor_denominator = 3 * Planck15.H0 ** 3 * constants.c ** 2\n",
    "        integrand = Rstar_z(z) / (1 + z) * Planck15.inv_efunc(z) * dEdf_function(freq * (1 + z), **extra_args) \n",
    "        result[index] = prefactor_numerator / prefactor_denominator * np.sum(integrand) * delta_z\n",
    "    return result\n"
   ]
  },
  {
   "cell_type": "markdown",
   "id": "authentic-employee",
   "metadata": {},
   "source": [
    "## Calculate omega_gw and compare with the PSD scaled with the constants. Compare with Fig 1 https://arxiv.org/pdf/1701.02638.pdf"
   ]
  },
  {
   "cell_type": "code",
   "execution_count": null,
   "id": "computational-radio",
   "metadata": {},
   "outputs": [],
   "source": [
    "plt.figure(figsize=(8,5))\n",
    "\n",
    "f_arr = np.arange(10, 3000, 5)\n",
    "for params in [[100, 200, 1e4], [100, 300, 1e4], [200, 200, 1e4], [100, 200, 1e6]]:\n",
    "    a, b, xi = params\n",
    "    omega = omega_GW_stellar_core_collapse(f_arr, dEdf_stellar_core_collapse_freq_dependence,\n",
    "                            dict(a=a * u.Hz, b=b *u.Hz, xi=xi * u.m**2/u.s))\n",
    "    plt.loglog(f_arr, omega, label=f\"a={a}, b={b}, xi={xi}\")\n",
    "\n",
    "for name in [\"CosmicExplorerP1600143\", \"aLIGOZeroDetHighPower\"]:\n",
    "    psd = pycbc.psd.analytical.from_string(name, 2000, 1, 5)\n",
    "    psd_data = psd.data / u.Hz\n",
    "    psd_frequencies = psd.sample_frequencies * u.Hz\n",
    "    psd = (psd_data * (psd_frequencies) ** 3 / constants.G / Planck15.critical_density0).si * np.pi/4\n",
    "    plt.plot(psd_frequencies, psd, label=name + \" PSD\", ls=\"--\")\n",
    "\n",
    "plt.legend()\n",
    "plt.grid()"
   ]
  },
  {
   "cell_type": "markdown",
   "id": "parallel-merchandise",
   "metadata": {},
   "source": [
    "## Next, we attack magnetars"
   ]
  },
  {
   "cell_type": "code",
   "execution_count": null,
   "id": "lesbian-suspect",
   "metadata": {},
   "outputs": [],
   "source": [
    "def dEdf_magnetars(freq, I, R, B, eps):\n",
    "    \"\"\"\n",
    "    Function to calculate dE/df for stellar core collapse.\n",
    "    \"\"\"\n",
    "    term_1 = I * np.pi ** 2 * freq ** 3\n",
    "    term_2 = 5 * constants.c ** 2 * R ** 6 * B ** 2\n",
    "    term_3 = 192 * np.pi ** 2 * constants.G * I **2 * eps ** 2 * constants.mu0\n",
    "    \n",
    "    return term_1 / (term_2 / term_3 + freq ** 2) \n",
    "\n",
    "def omega_GW_magnetars(f_arr, lambda_frac, dEdf_function, extra_args=dict()):\n",
    "    \"\"\"\n",
    "    Function to calculate omega_gw given the the dEdf\n",
    "    distribution. Also takes extra_args that go into the \n",
    "    the dEdf function.\n",
    "    \"\"\"\n",
    "    \n",
    "    f_arr = np.asarray(f_arr) * u.Hz\n",
    "    result = np.zeros_like(f_arr.value)\n",
    "    z = np.linspace(0.01, 20, 10000)\n",
    "    delta_z = z[1] - z[0]\n",
    "    \n",
    "    for index, freq in tqdm(enumerate(f_arr)):\n",
    "        prefactor = freq / (Planck15.critical_density0 * Planck15.H0 * constants.c**2) \n",
    "        integrand = lambda_frac* Rstar_z(z) / (1 + z) * Planck15.inv_efunc(z) * dEdf_function(freq * (1 + z), **extra_args) \n",
    "        result[index] = prefactor * np.sum(integrand) * delta_z\n",
    "    return result\n"
   ]
  },
  {
   "cell_type": "code",
   "execution_count": null,
   "id": "valid-leisure",
   "metadata": {},
   "outputs": [],
   "source": [
    "plt.figure(figsize=(8,5))\n",
    "\n",
    "f_arr = np.arange(10, 3000, 5)\n",
    "for params in [[1e45, 10, 1e15, 1e-5],\n",
    "               [1e45, 20, 1e15, 1e-5], \n",
    "               [1e45, 10, 1e15, 1e-2],\n",
    "               [1e45, 20, 1e15, 1e-2]]:\n",
    "    I, R, B, eps = params\n",
    "    I = I *u.g * u.cm ** 2\n",
    "    R = R * u.km\n",
    "    B = B * u.gauss\n",
    "\n",
    "    omega = omega_GW_magnetars(f_arr, 1e-7 / u.M_sun, dEdf_magnetars,\n",
    "                            dict(I=I, R=R, B=B, eps=eps))\n",
    "    plt.loglog(f_arr, omega, label=f\"R={R}, eps={eps}\")\n",
    "\n",
    "for name in [\"CosmicExplorerP1600143\", \"aLIGOZeroDetHighPower\"]:\n",
    "    psd = pycbc.psd.analytical.from_string(name, 2000, 1, 5)\n",
    "    psd_data = psd.data / u.Hz\n",
    "    psd_frequencies = psd.sample_frequencies * u.Hz\n",
    "    psd = (psd_data * (psd_frequencies) ** 3 / constants.G / Planck15.critical_density0).si * np.pi/4\n",
    "    plt.plot(psd_frequencies, psd, label=name + \" PSD\", ls=\"--\")\n",
    "\n",
    "plt.legend(loc=\"best\")\n",
    "plt.ylim(ymax=1e-10)\n",
    "plt.grid()"
   ]
  }
 ],
 "metadata": {
  "kernelspec": {
   "display_name": "Python 3",
   "language": "python",
   "name": "python3"
  },
  "language_info": {
   "codemirror_mode": {
    "name": "ipython",
    "version": 3
   },
   "file_extension": ".py",
   "mimetype": "text/x-python",
   "name": "python",
   "nbconvert_exporter": "python",
   "pygments_lexer": "ipython3",
   "version": "3.8.6"
  }
 },
 "nbformat": 4,
 "nbformat_minor": 5
}
