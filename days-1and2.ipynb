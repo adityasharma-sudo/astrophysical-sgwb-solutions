{
 "cells": [
  {
   "cell_type": "code",
   "execution_count": 1,
   "id": "adult-insider",
   "metadata": {},
   "outputs": [],
   "source": [
    "from astropy.cosmology import Planck15\n",
    "from astropy import constants\n",
    "import astropy.units as u\n",
    "import numpy as np\n",
    "import matplotlib.pyplot as plt\n",
    "from scipy.interpolate import interp1d\n",
    "from tqdm import tqdm"
   ]
  },
  {
   "cell_type": "code",
   "execution_count": 2,
   "id": "frozen-experience",
   "metadata": {},
   "outputs": [],
   "source": [
    "z_arr = np.logspace(-3, np.log10(20), 100000)\n",
    "lookback_time_to_z = interp1d(Planck15.lookback_time(z_arr).value, z_arr)\n",
    "\n",
    "def Rstar_z(z):\n",
    "    \"\"\"\n",
    "    The star formation rate as a function of redshift\n",
    "    \"\"\"\n",
    "    \n",
    "    a, b, zm = 2.8, 2.46, 1.72\n",
    "    nu = 24 / u.yr / u.Gpc ** 3\n",
    "    numerator = nu * a * np.exp(b * (z - zm))\n",
    "    denominator = a - b + b * np.exp(a * (z - zm))\n",
    "    return numerator / denominator\n",
    "\n",
    "def Rstar_tL(lookback_time):\n",
    "    \"\"\"\n",
    "    The star formation rate as a function of lookback time\n",
    "    \"\"\"\n",
    "    \n",
    "    a, b, zm, nu = 2.8, 2.46, 1.72, .146e9\n",
    "    numerator = nu * a * np.exp(b * (z - zm))\n",
    "    denominator = a - b + b * np.exp(a * (z - zm))\n",
    "    return numerator / denominator"
   ]
  },
  {
   "cell_type": "code",
   "execution_count": 6,
   "id": "straight-updating",
   "metadata": {},
   "outputs": [],
   "source": [
    "def dEdf(freq, factor):\n",
    "    numerator =  np.pi ** (2/3) * constants.G ** (2/3) * factor * freq ** (-1/3)\n",
    "    denominator = 3  * constants.c ** 2\n",
    "    return numerator / denominator\n",
    "\n",
    "def omega_GW_without_time_delay(f_arr, chirp_mass_distribution,\n",
    "                               extra_args=dict()):\n",
    "    f_arr = np.asarray(f_arr) * u.Hz\n",
    "    result = np.zeros_like(f_arr.value)\n",
    "    z = np.linspace(0.01, 20, 10000)\n",
    "    delta_z = z[1] - z[0]\n",
    "    \n",
    "    if chirp_mass_distribution == \"delta_function\":\n",
    "        print(\"Using Delta Function distribution\")\n",
    "        factor = extra_args[\"val\"] ** (5/3) * u.M_sun ** (5/3)\n",
    "        print(factor)\n",
    "    \n",
    "    else:\n",
    "        delta_chirp_mass = 0.1\n",
    "        chirp_mass_arr = np.arange(0, 200, delta_chirp_mass)\n",
    "        factor_integrand = chirp_mass_arr ** (5/3) * chirp_mass_distribution(chirp_mass_arr, **extra_args)\n",
    "        factor = np.sum(factor_integrand) * delta_chirp_mass  * u.M_sun ** (5/3)\n",
    "        print(factor)\n",
    "    \n",
    "    for index, freq in tqdm(enumerate(f_arr)):\n",
    "        prefactor = freq / (Planck15.critical_density0 * Planck15.H0) \n",
    "        integrand = Rstar_z(z) / (1 + z) * Planck15.inv_efunc(z) * dEdf(freq / (1 + z), factor) \n",
    "        result[index] = prefactor * np.sum(integrand) * delta_z\n",
    "    return result\n",
    "\n",
    "def gaussian(x, mu, sigma):\n",
    "    return 1 / np.sqrt(2 * np.pi * sigma ** 2) * np.exp((x - mu) ** 2  / 2 / sigma **2)\n",
    "\n",
    "def flat(x, minimum, maximum):\n",
    "    y = np.zeros_like(x)\n",
    "    useful_indices = np.intersect1d(\n",
    "        np.where(x > minimum), np.where(x < maximum)\n",
    "    )\n",
    "    y[useful_indices] = 1 / (maximum - minimum)\n",
    "    return y"
   ]
  },
  {
   "cell_type": "code",
   "execution_count": 7,
   "id": "exotic-texas",
   "metadata": {},
   "outputs": [
    {
     "name": "stderr",
     "output_type": "stream",
     "text": [
      "28it [00:00, 273.76it/s]"
     ]
    },
    {
     "name": "stdout",
     "output_type": "stream",
     "text": [
      "Using Delta Function distribution\n",
      "289.646815381689 solMass(5/3)\n"
     ]
    },
    {
     "name": "stderr",
     "output_type": "stream",
     "text": [
      "980it [00:02, 410.95it/s]\n",
      "42it [00:00, 411.15it/s]"
     ]
    },
    {
     "name": "stdout",
     "output_type": "stream",
     "text": [
      "Using Delta Function distribution\n",
      "467.8428381140587 solMass(5/3)\n"
     ]
    },
    {
     "name": "stderr",
     "output_type": "stream",
     "text": [
      "980it [00:02, 421.74it/s]\n"
     ]
    },
    {
     "data": {
      "image/png": "[encoded data removed]",
      "text/plain": [
       "<Figure size 432x288 with 1 Axes>"
      ]
     },
     "metadata": {
      "needs_background": "light"
     },
     "output_type": "display_data"
    }
   ],
   "source": [
    "f_arr = np.arange(20, 1000, 1)\n",
    "for chirp_mass in [30, 40]:\n",
    "    omega = omega_GW_without_time_delay(f_arr, \"delta_function\", extra_args=dict(val=chirp_mass))\n",
    "    plt.loglog(f_arr, omega)    "
   ]
  },
  {
   "cell_type": "markdown",
   "id": "harmful-capability",
   "metadata": {},
   "source": [
    "# BACKUP"
   ]
  },
  {
   "cell_type": "code",
   "execution_count": null,
   "id": "affecting-showcase",
   "metadata": {},
   "outputs": [],
   "source": [
    "def omega_GW_without_time_delay(f_arr, dEdf_function,\n",
    "                               extra_args=dict()):\n",
    "    f_arr = np.asarray(f_arr) * u.Hz\n",
    "    result = np.zeros_like(f_arr.value)\n",
    "    z = np.linspace(0.01, 20, 10000)\n",
    "    delta_z = z[1] - z[0]\n",
    "    \n",
    "    for index, freq in tqdm(enumerate(f_arr)):\n",
    "        prefactor = freq / (Planck15.critical_density0 * Planck15.H0) \n",
    "        integrand = Rstar_z(z) / (1 + z) * Planck15.inv_efunc(z) * dEdf_function(freq / (1 + z), z, **extra_args) \n",
    "        result[index] = prefactor * np.sum(integrand) * delta_z\n",
    "    return result\n",
    "\n",
    "\n",
    "def dEdf_single_chirp_mass(freq, z, val=30):\n",
    "    freq = freq\n",
    "    chirp_mass = val * u.M_sun\n",
    "    numerator =  np.pi ** (2/3) * constants.G ** (2/3) * chirp_mass ** (5/3) * freq ** (-1/3)\n",
    "    denominator = 3  * constants.c ** 2\n",
    "    return numerator / denominator"
   ]
  },
  {
   "cell_type": "code",
   "execution_count": null,
   "id": "placed-concern",
   "metadata": {},
   "outputs": [],
   "source": [
    "f_arr = np.arange(20, 1000, 1)\n",
    "for chirp_mass in [10]:\n",
    "    omega = omega_GW_without_time_delay(f_arr, dEdf_single_chirp_mass, extra_args=dict(val=chirp_mass))\n",
    "    plt.loglog(f_arr, omega, \".\")"
   ]
  },
  {
   "cell_type": "code",
   "execution_count": null,
   "id": "married-contamination",
   "metadata": {},
   "outputs": [],
   "source": []
  }
 ],
 "metadata": {
  "kernelspec": {
   "display_name": "Python 3",
   "language": "python",
   "name": "python3"
  },
  "language_info": {
   "codemirror_mode": {
    "name": "ipython",
    "version": 3
   },
   "file_extension": ".py",
   "mimetype": "text/x-python",
   "name": "python",
   "nbconvert_exporter": "python",
   "pygments_lexer": "ipython3",
   "version": "3.8.6"
  }
 },
 "nbformat": 4,
 "nbformat_minor": 5
}
