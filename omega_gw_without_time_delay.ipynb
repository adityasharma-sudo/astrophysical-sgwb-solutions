{
 "cells": [
  {
   "cell_type": "markdown",
   "metadata": {},
   "source": [
    "# Solution: Problem 1 (without including time delay)"
   ]
  },
  {
   "cell_type": "markdown",
   "metadata": {},
   "source": [
    "## First, we install packages that we will need. Skip this step if packages are already installed."
   ]
  },
  {
   "cell_type": "code",
   "execution_count": null,
   "metadata": {},
   "outputs": [],
   "source": [
    "import sys\n",
    "!{sys.executable} -m pip install numpy\n",
    "!{sys.executable} -m pip install scipy\n",
    "!{sys.executable} -m pip install matplotlib\n",
    "!{sys.executable} -m pip install astropy\n",
    "!{sys.executable} -m pip install pycbc"
   ]
  },
  {
   "cell_type": "markdown",
   "metadata": {},
   "source": [
    "## Import necessary packages"
   ]
  },
  {
   "cell_type": "code",
   "execution_count": 1,
   "metadata": {},
   "outputs": [],
   "source": [
    "from astropy.cosmology import Planck15\n",
    "from astropy import constants\n",
    "import astropy.units as u\n",
    "import numpy as np\n",
    "import matplotlib.pyplot as plt\n",
    "import pycbc.psd\n",
    "from scipy.interpolate import interp1d\n",
    "from scipy.integrate import cumtrapz\n",
    "from tqdm import tqdm"
   ]
  },
  {
   "cell_type": "markdown",
   "metadata": {},
   "source": [
    "## Define the star formation rate"
   ]
  },
  {
   "cell_type": "code",
   "execution_count": 2,
   "metadata": {},
   "outputs": [],
   "source": [
    "def Rstar_z(z):\n",
    "    \"\"\"\n",
    "    The star formation rate as a function of redshift.\n",
    "    Normalized to the merger rate from GWTC-2\n",
    "    https://arxiv.org/abs/2010.14533\n",
    "    \"\"\"\n",
    "    \n",
    "    a, b, zm = 2.8, 2.46, 1.72\n",
    "    nu = 23.9 / u.yr / u.Gpc ** 3 # BBH merger rate\n",
    "    numerator = nu * a * np.exp(b * (z - zm))\n",
    "    denominator = a - b + b * np.exp(a * (z - zm))\n",
    "    return numerator / denominator"
   ]
  },
  {
   "cell_type": "code",
   "execution_count": 3,
   "metadata": {},
   "outputs": [],
   "source": [
    "def dEdf(freq, factor):\n",
    "    \"\"\"\n",
    "    Function to calculate dE/df for compact binaries.\n",
    "    The factor is the integral of the chirp mass distribution\n",
    "    as defined in the notes.\n",
    "    \"\"\"\n",
    "    \n",
    "    numerator =  np.pi ** (2/3) * constants.G ** (2/3) * factor * freq ** (-1/3)\n",
    "    denominator = 3  * constants.c ** 2\n",
    "    return numerator / denominator\n",
    "\n",
    "def omega_GW_without_time_delay(f_arr, chirp_mass_distribution,\n",
    "                               extra_args=dict()):\n",
    "    \"\"\"\n",
    "    Function to calculate omega_gw given the chirp mass\n",
    "    distribution. Also takes extra_args that go into the \n",
    "    the distribution for chirp mass.\n",
    "    \"\"\"\n",
    "    \n",
    "    f_arr = np.asarray(f_arr) * u.Hz\n",
    "    result = np.zeros_like(f_arr.value)\n",
    "    z = np.linspace(0.01, 20, 10000)\n",
    "    delta_z = z[1] - z[0]\n",
    "    \n",
    "    if chirp_mass_distribution == \"delta_function\":\n",
    "        factor = extra_args[\"val\"] ** (5/3) * u.M_sun ** (5/3)\n",
    "    \n",
    "    else:\n",
    "        delta_chirp_mass = 0.1\n",
    "        chirp_mass_arr = np.arange(0, 200, delta_chirp_mass)\n",
    "        factor_integrand = chirp_mass_arr ** (5/3) * chirp_mass_distribution(chirp_mass_arr, **extra_args)\n",
    "        factor = np.sum(factor_integrand) * delta_chirp_mass  * u.M_sun ** (5/3)\n",
    "        print(factor)\n",
    "    \n",
    "    for index, freq in tqdm(enumerate(f_arr)):\n",
    "        prefactor = freq / (Planck15.critical_density0 * Planck15.H0) \n",
    "        integrand = Rstar_z(z) / (1 + z) * Planck15.inv_efunc(z) * dEdf(freq / (1 + z), factor) \n",
    "        result[index] = prefactor * np.sum(integrand) * delta_z\n",
    "    return result\n",
    "\n"
   ]
  },
  {
   "cell_type": "markdown",
   "metadata": {},
   "source": [
    "## Define a few distributions."
   ]
  },
  {
   "cell_type": "code",
   "execution_count": 4,
   "metadata": {},
   "outputs": [],
   "source": [
    "def gaussian(x, mu, sigma):\n",
    "    return 1 / np.sqrt(2 * np.pi * sigma ** 2) * np.exp((x - mu) ** 2  / 2 / sigma **2)\n",
    "\n",
    "def flat(x, minimum, maximum):\n",
    "    y = np.zeros_like(x)\n",
    "    useful_indices = np.intersect1d(\n",
    "        np.where(x > minimum), np.where(x < maximum)\n",
    "    )\n",
    "    y[useful_indices] = 1 / (maximum - minimum)\n",
    "    return y"
   ]
  },
  {
   "cell_type": "markdown",
   "metadata": {},
   "source": [
    "## Calculate omega_gw and compare with the PSD scaled with the constants."
   ]
  },
  {
   "cell_type": "code",
   "execution_count": 8,
   "metadata": {},
   "outputs": [
    {
     "name": "stderr",
     "output_type": "stream",
     "text": [
      "498it [00:01, 401.64it/s]\n",
      "498it [00:01, 413.78it/s]\n"
     ]
    },
    {
     "data": {
      "text/plain": [
       "(5, 1000)"
      ]
     },
     "execution_count": 8,
     "metadata": {},
     "output_type": "execute_result"
    },
    {
     "data": {
      "image/png": "[encoded data removed]",
      "text/plain": [
       "<Figure size 576x360 with 1 Axes>"
      ]
     },
     "metadata": {
      "needs_background": "light"
     },
     "output_type": "display_data"
    }
   ],
   "source": [
    "plt.figure(figsize=(8,5))\n",
    "\n",
    "f_arr = np.arange(5, 1000, 2)\n",
    "for chirp_mass in [30, 100]:\n",
    "    omega = omega_GW_without_time_delay(f_arr, \"delta_function\", extra_args=dict(val=chirp_mass),)\n",
    "    plt.loglog(f_arr, omega, label=f\"delta function at {chirp_mass} Msun\")\n",
    "\n",
    "for name in [\"CosmicExplorerP1600143\", \"aLIGOZeroDetHighPower\"]:\n",
    "    psd = pycbc.psd.analytical.from_string(name, 2000, 1, 5)\n",
    "    psd_data = psd.data / u.Hz\n",
    "    psd_frequencies = psd.sample_frequencies * u.Hz\n",
    "    psd = (psd_data * (psd_frequencies) ** 3 / constants.G / Planck15.critical_density0).si * np.pi/4\n",
    "    plt.plot(psd_frequencies, psd, label=name + \" PSD\", ls=\"--\")\n",
    "plt.legend(loc=\"best\")\n",
    "plt.ylim(ymax=5e-4)\n",
    "plt.grid()\n",
    "plt.xlim(5, 1000)"
   ]
  }
 ],
 "metadata": {
  "kernelspec": {
   "display_name": "Python 3",
   "language": "python",
   "name": "python3"
  },
  "language_info": {
   "codemirror_mode": {
    "name": "ipython",
    "version": 3
   },
   "file_extension": ".py",
   "mimetype": "text/x-python",
   "name": "python",
   "nbconvert_exporter": "python",
   "pygments_lexer": "ipython3",
   "version": "3.8.6"
  }
 },
 "nbformat": 4,
 "nbformat_minor": 5
}
