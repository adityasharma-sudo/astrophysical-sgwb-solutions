{
 "cells": [
  {
   "cell_type": "markdown",
   "id": "restricted-communications",
   "metadata": {},
   "source": [
    "# Solution: Problem 2 (including time delay)"
   ]
  },
  {
   "cell_type": "markdown",
   "id": "ambient-wales",
   "metadata": {},
   "source": [
    "## First, we install packages that we will need. Skip this step if packages are already installed."
   ]
  },
  {
   "cell_type": "code",
   "execution_count": null,
   "id": "legal-supervision",
   "metadata": {},
   "outputs": [],
   "source": [
    "import sys\n",
    "!{sys.executable} -m pip install numpy\n",
    "!{sys.executable} -m pip install scipy\n",
    "!{sys.executable} -m pip install matplotlib\n",
    "!{sys.executable} -m pip install astropy\n",
    "!{sys.executable} -m pip install pycbc\n"
   ]
  },
  {
   "cell_type": "markdown",
   "id": "parental-eating",
   "metadata": {},
   "source": [
    "## Import necessary packages"
   ]
  },
  {
   "cell_type": "code",
   "execution_count": 4,
   "id": "unnecessary-strand",
   "metadata": {},
   "outputs": [],
   "source": [
    "from astropy.cosmology import Planck15\n",
    "from astropy import constants\n",
    "import astropy.units as u\n",
    "import numpy as np\n",
    "import matplotlib.pyplot as plt\n",
    "import pycbc.psd\n",
    "from scipy.interpolate import interp1d\n",
    "from scipy.integrate import cumtrapz\n",
    "from tqdm import tqdm"
   ]
  },
  {
   "cell_type": "markdown",
   "id": "ignored-joshua",
   "metadata": {},
   "source": [
    "## Define the star formation rate as a function of both z and lookback time"
   ]
  },
  {
   "cell_type": "code",
   "execution_count": 5,
   "id": "danish-effect",
   "metadata": {},
   "outputs": [],
   "source": [
    "z_arr = np.logspace(-6, np.log10(1000), 100000)\n",
    "lookback_time_to_z = interp1d(Planck15.lookback_time(z_arr).to(u.Myr).value, z_arr)\n",
    "\n",
    "def Rstar_z(z):\n",
    "    \"\"\"\n",
    "    The star formation rate as a function of redshift\n",
    "    \"\"\"\n",
    "    \n",
    "    a, b, zm = 2.8, 2.46, 1.72\n",
    "    nu = 24 / u.yr / u.Gpc ** 3\n",
    "    numerator = nu * a * np.exp(b * (z - zm))\n",
    "    denominator = a - b + b * np.exp(a * (z - zm))\n",
    "    return numerator / denominator\n",
    "\n",
    "def Rstar_tL(lookback_time):\n",
    "    \"\"\"\n",
    "    The star formation rate as a function of lookback time\n",
    "    \"\"\"\n",
    "    useful_indices = np.intersect1d(\n",
    "                        np.where(lookback_time < 1.377e4),\n",
    "                        np.where(lookback_time > 1),\n",
    "    )\n",
    "    result = np.zeros_like(lookback_time)\n",
    "    result[useful_indices] = Rstar_z(lookback_time_to_z(lookback_time[useful_indices]))\n",
    "    return result / u.yr / u.Gpc ** 3"
   ]
  },
  {
   "cell_type": "code",
   "execution_count": 26,
   "id": "qualified-signature",
   "metadata": {},
   "outputs": [],
   "source": [
    "def dEdf(freq, factor):\n",
    "    numerator =  np.pi ** (2/3) * constants.G ** (2/3) * factor * freq ** (-1/3)\n",
    "    denominator = 3  * constants.c ** 2\n",
    "    return numerator / denominator\n",
    "\n",
    "\n",
    "def Rv_z(z, time_delay_distribution, time_delay_args=dict()):\n",
    "    lookback_time = Planck15.lookback_time(z).to(u.Myr).value\n",
    "    result = np.zeros_like(z) / u.yr / u.Gpc ** 3\n",
    "    \n",
    "    time_delay_arr = np.logspace(np.log10(1e-3), np.log10(1e4), 100000)\n",
    "    for ii in range(len(z)):\n",
    "        integrand = Rstar_tL(lookback_time[ii] + time_delay_arr) * time_delay_distribution(time_delay_arr,\n",
    "                                                                                          **time_delay_args)\n",
    "        result[ii] = np.trapz(integrand, time_delay_arr)\n",
    "        \n",
    "    return result\n",
    "    \n",
    "def omega_GW_with_time_delay(f_arr, chirp_mass_distribution,\n",
    "                                time_delay_distribution,\n",
    "                                chirp_mass_args=dict(),\n",
    "                                time_delay_args=dict()\n",
    "                               ):\n",
    "    f_arr = np.asarray(f_arr) * u.Hz\n",
    "    result = np.zeros_like(f_arr.value)\n",
    "    z = np.linspace(0.01, 10, 100)\n",
    "    delta_z = z[1] - z[0]\n",
    "    \n",
    "    if chirp_mass_distribution == \"delta_function\":\n",
    "        print(\"Using Delta Function distribution\")\n",
    "        factor = chirp_mass_args[\"val\"] ** (5/3) * u.M_sun ** (5/3)\n",
    "    \n",
    "    else:\n",
    "        delta_chirp_mass = 0.1\n",
    "        chirp_mass_arr = np.arange(0, 200, delta_chirp_mass)\n",
    "        factor_integrand = chirp_mass_arr ** (5/3) * chirp_mass_distribution(chirp_mass_arr, **extra_args)\n",
    "        factor = np.sum(factor_integrand) * delta_chirp_mass  * u.M_sun ** (5/3)\n",
    "        print(factor)\n",
    "    \n",
    "    rate = Rv_z(z, time_delay_distribution, time_delay_args)\n",
    "#     plt.plot(z, rate)\n",
    "#     plt.grid()\n",
    "#     plt.show()\n",
    "\n",
    "    for index, freq in tqdm(enumerate(f_arr)):\n",
    "        prefactor = freq / (Planck15.critical_density0 * Planck15.H0) \n",
    "        integrand = rate / (1 + z) * Planck15.inv_efunc(z) * dEdf(freq * (1 + z), factor) \n",
    "        result[index] = prefactor * np.sum(integrand) * delta_z\n",
    "    return result\n",
    "\n"
   ]
  },
  {
   "cell_type": "code",
   "execution_count": 27,
   "id": "outdoor-desktop",
   "metadata": {},
   "outputs": [],
   "source": [
    "def gaussian(x, mu, sigma):\n",
    "    return 1 / np.sqrt(2 * np.pi * sigma ** 2) * np.exp((x - mu) ** 2  / 2 / sigma **2)\n",
    "\n",
    "def flat(x, minimum, maximum):\n",
    "    y = np.zeros_like(x)\n",
    "    useful_indices = np.intersect1d(\n",
    "        np.where(x > minimum), np.where(x < maximum)\n",
    "    )\n",
    "    y[useful_indices] = 1 / (maximum - minimum)\n",
    "    return y\n",
    "\n",
    "def inverse_x(x, minimum, maximum):\n",
    "    y = np.zeros_like(x)\n",
    "    useful_indices = np.intersect1d(\n",
    "        np.where(x > minimum), np.where(x < maximum)\n",
    "    )\n",
    "    y[useful_indices] = 1 / x[useful_indices]\n",
    "    y /= np.log(maximum/minimum)\n",
    "    return y\n",
    "    "
   ]
  },
  {
   "cell_type": "code",
   "execution_count": 33,
   "id": "sublime-harbor",
   "metadata": {},
   "outputs": [
    {
     "name": "stdout",
     "output_type": "stream",
     "text": [
      "Using Delta Function distribution\n"
     ]
    },
    {
     "name": "stderr",
     "output_type": "stream",
     "text": [
      "100it [00:00, 925.51it/s]\n"
     ]
    },
    {
     "name": "stdout",
     "output_type": "stream",
     "text": [
      "Using Delta Function distribution\n"
     ]
    },
    {
     "name": "stderr",
     "output_type": "stream",
     "text": [
      "100it [00:00, 549.83it/s]\n"
     ]
    },
    {
     "data": {
      "text/plain": [
       "(5, 1000)"
      ]
     },
     "execution_count": 33,
     "metadata": {},
     "output_type": "execute_result"
    },
    {
     "data": {
      "image/png": "[encoded data removed]",
      "text/plain": [
       "<Figure size 432x288 with 1 Axes>"
      ]
     },
     "metadata": {
      "needs_background": "light"
     },
     "output_type": "display_data"
    }
   ],
   "source": [
    "f_arr = np.arange(5, 1000, 10)\n",
    "for tmin in [1e1, 1e3]:\n",
    "    omega = omega_GW_with_time_delay(f_arr,\n",
    "                                     chirp_mass_distribution=\"delta_function\",\n",
    "                                     time_delay_distribution=inverse_x,\n",
    "                                     chirp_mass_args=dict(val=30),\n",
    "                                    time_delay_args=dict(minimum=tmin, maximum=1e4))\n",
    "    plt.loglog(f_arr, omega, label=f\"t_min = {tmin}\")\n",
    "\n",
    "for name in [\"CosmicExplorerP1600143\", \"aLIGOZeroDetHighPower\"]:\n",
    "    psd = pycbc.psd.analytical.from_string(name, 2000, 1, 5)\n",
    "    psd_data = psd.data / u.Hz\n",
    "    psd_frequencies = psd.sample_frequencies * u.Hz\n",
    "    psd = (psd_data * (psd_frequencies) ** 3 / constants.G / Planck15.critical_density0).si * np.pi/4\n",
    "    plt.plot(psd_frequencies, psd, label=name + \" PSD\", ls=\"--\")\n",
    "plt.legend(loc=\"best\")\n",
    "plt.ylim(ymax=5e-4)\n",
    "plt.grid()\n",
    "plt.xlim(5, 1000)"
   ]
  }
 ],
 "metadata": {
  "kernelspec": {
   "display_name": "Python 3",
   "language": "python",
   "name": "python3"
  },
  "language_info": {
   "codemirror_mode": {
    "name": "ipython",
    "version": 3
   },
   "file_extension": ".py",
   "mimetype": "text/x-python",
   "name": "python",
   "nbconvert_exporter": "python",
   "pygments_lexer": "ipython3",
   "version": "3.8.6"
  }
 },
 "nbformat": 4,
 "nbformat_minor": 5
}
